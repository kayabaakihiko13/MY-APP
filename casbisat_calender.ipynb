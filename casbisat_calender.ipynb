{
 "cells": [
  {
   "cell_type": "markdown",
   "metadata": {},
   "source": [
    "<h1>Cabisat Calender</h1>\n",
    "> Cabisat years are year where extra day in added to the end of the shortest month February. This so-called intercalary day, February 29, is commonly referred to as leap day."
   ]
  },
  {
   "cell_type": "code",
   "execution_count": 8,
   "metadata": {},
   "outputs": [],
   "source": [
    "# make function cabisat calender\n",
    "def cabisat(data):\n",
    "    leap=False\n",
    "    if (data%4==0 and data%100!=0)or data%400==0:\n",
    "        leap=True\n",
    "        #result=\n",
    "    return print(f'maka tahun anda {leap}')"
   ]
  },
  {
   "cell_type": "code",
   "execution_count": 9,
   "metadata": {},
   "outputs": [
    {
     "name": "stdout",
     "output_type": "stream",
     "text": [
      "maka tahun anda False\n",
      "None\n"
     ]
    }
   ],
   "source": [
    "print(cabisat(1000))"
   ]
  },
  {
   "cell_type": "code",
   "execution_count": null,
   "metadata": {},
   "outputs": [],
   "source": []
  }
 ],
 "metadata": {
  "interpreter": {
   "hash": "c859093c78695496ad665a82290bb7b265a9624f5e39e0735e1a3001463f1dd0"
  },
  "kernelspec": {
   "display_name": "Python 3.9.10 ('Env': venv)",
   "language": "python",
   "name": "python3"
  },
  "language_info": {
   "codemirror_mode": {
    "name": "ipython",
    "version": 3
   },
   "file_extension": ".py",
   "mimetype": "text/x-python",
   "name": "python",
   "nbconvert_exporter": "python",
   "pygments_lexer": "ipython3",
   "version": "3.10.2"
  },
  "orig_nbformat": 4
 },
 "nbformat": 4,
 "nbformat_minor": 2
}
